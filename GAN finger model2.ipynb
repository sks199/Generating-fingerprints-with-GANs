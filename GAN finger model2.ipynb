{
  "nbformat": 4,
  "nbformat_minor": 0,
  "metadata": {
    "colab": {
      "name": "Finger data load test.ipynb",
      "provenance": [],
      "collapsed_sections": []
    },
    "kernelspec": {
      "name": "python3",
      "display_name": "Python 3"
    },
    "language_info": {
      "name": "python"
    },
    "accelerator": "GPU"
  },
  "cells": [
    {
      "cell_type": "code",
      "execution_count": null,
      "metadata": {
        "id": "L50BGv0kifOf"
      },
      "outputs": [],
      "source": [
        "import tensorflow as tf\n",
        "from tensorflow.keras.layers import Input, Reshape, Dropout, Dense \n",
        "from tensorflow.keras.layers import Flatten, BatchNormalization\n",
        "from tensorflow.keras.layers import Activation, ZeroPadding2D\n",
        "from tensorflow.keras.layers import LeakyReLU\n",
        "from tensorflow.keras.layers import UpSampling2D, Conv2D\n",
        "from tensorflow.keras.models import Sequential, Model, load_model\n",
        "from tensorflow.keras.optimizers import Adam\n",
        "import numpy as np\n",
        "from PIL import Image\n",
        "from tqdm import tqdm\n",
        "import os \n",
        "import time\n",
        "import matplotlib.pyplot as plt"
      ]
    },
    {
      "cell_type": "code",
      "source": [
        "GENERATE_RES = 3 # Generation resolution factor \n",
        "# (1=32, 2=64, 3=96, 4=128, etc.)\n",
        "GENERATE_SQUARE = 32 * GENERATE_RES # rows/cols (should be square)\n",
        "IMAGE_CHANNELS = 3\n",
        "\n",
        "# Preview image \n",
        "PREVIEW_ROWS = 4\n",
        "PREVIEW_COLS = 7\n",
        "PREVIEW_MARGIN = 16\n",
        "\n",
        "# Size vector to generate images from\n",
        "SEED_SIZE = 100\n",
        "\n",
        "# Configuration\n",
        "DATA_PATH = '/content/drive/MyDrive/Fingerprint Recognition/SOCOFing/Real'\n",
        "EPOCHS = 50\n",
        "BATCH_SIZE = 32\n",
        "BUFFER_SIZE = 60000\n",
        "\n",
        "print(f\"Will generate {GENERATE_SQUARE}px square images.\")"
      ],
      "metadata": {
        "colab": {
          "base_uri": "https://localhost:8080/"
        },
        "id": "iyv1L8Voi0xi",
        "outputId": "a84d3b86-91f4-455e-c47c-3d63c8732a0d"
      },
      "execution_count": null,
      "outputs": [
        {
          "output_type": "stream",
          "name": "stdout",
          "text": [
            "Will generate 96px square images.\n"
          ]
        }
      ]
    },
    {
      "cell_type": "code",
      "source": [
        "def hms_string(sec_elapsed):\n",
        "    h = int(sec_elapsed / (60 * 60))\n",
        "    m = int((sec_elapsed % (60 * 60)) / 60)\n",
        "    s = sec_elapsed % 60\n",
        "    return \"{}:{:>02}:{:>05.2f}\".format(h, m, s)"
      ],
      "metadata": {
        "id": "HSJdQ8iwkTxZ"
      },
      "execution_count": null,
      "outputs": []
    },
    {
      "cell_type": "code",
      "source": [
        "training_binary_path = os.path.join(DATA_PATH,\n",
        "        f'training_data_{GENERATE_SQUARE}_{GENERATE_SQUARE}.npy')\n",
        "\n",
        "print(f\"Looking for file: {training_binary_path}\")\n",
        "\n",
        "if not os.path.isfile(training_binary_path):\n",
        "  start = time.time()\n",
        "  print(\"Loading training images...\")\n",
        "\n",
        "  training_data = []\n",
        "  faces_path = os.path.join(DATA_PATH)\n",
        "  for filename in tqdm(os.listdir(faces_path)):\n",
        "      path = os.path.join(faces_path,filename)\n",
        "      image = Image.open(path).resize((GENERATE_SQUARE,\n",
        "            GENERATE_SQUARE),Image.ANTIALIAS)\n",
        "      training_data.append(np.asarray(image))\n",
        "  training_data = np.reshape(training_data,(-1,GENERATE_SQUARE,\n",
        "            GENERATE_SQUARE,IMAGE_CHANNELS))\n",
        "  training_data = training_data.astype(np.float32)\n",
        "  training_data = training_data / 127.5 - 1.\n",
        "\n",
        "\n",
        "  print(\"Saving training image binary...\")\n",
        "  np.save(training_binary_path,training_data)\n",
        "  elapsed = time.time()-start\n",
        "  print (f'Image preprocess time: {hms_string(elapsed)}')\n",
        "else:\n",
        "  print(\"Loading previous training pickle...\")\n",
        "  training_data = np.load(training_binary_path)"
      ],
      "metadata": {
        "colab": {
          "base_uri": "https://localhost:8080/"
        },
        "id": "csZ7rj_Ijfp4",
        "outputId": "53c88d99-2a26-47a9-a62c-f5de5079ade6"
      },
      "execution_count": null,
      "outputs": [
        {
          "output_type": "stream",
          "name": "stdout",
          "text": [
            "Looking for file: /content/drive/MyDrive/Fingerprint Recognition/SOCOFing/Real/training_data_96_96.npy\n",
            "Loading training images...\n"
          ]
        },
        {
          "output_type": "stream",
          "name": "stderr",
          "text": [
            "100%|██████████| 120/120 [00:02<00:00, 49.22it/s]\n"
          ]
        },
        {
          "output_type": "stream",
          "name": "stdout",
          "text": [
            "Saving training image binary...\n",
            "Image preprocess time: 0:00:02.51\n"
          ]
        }
      ]
    },
    {
      "cell_type": "code",
      "source": [
        "# Batch and shuffle the data\n",
        "train_dataset = tf.data.Dataset.from_tensor_slices(training_data) \\\n",
        "    .shuffle(BUFFER_SIZE).batch(BATCH_SIZE)"
      ],
      "metadata": {
        "id": "gMrcdSJikVkn"
      },
      "execution_count": null,
      "outputs": []
    },
    {
      "cell_type": "code",
      "source": [
        "def build_generator(seed_size, channels):\n",
        "    model = Sequential()\n",
        "\n",
        "    model.add(Dense(4*4*256,activation=\"relu\",input_dim=seed_size))\n",
        "    model.add(Reshape((4,4,256)))\n",
        "\n",
        "    model.add(UpSampling2D())\n",
        "    model.add(Conv2D(256,kernel_size=3,padding=\"same\"))\n",
        "    model.add(BatchNormalization(momentum=0.8))\n",
        "    model.add(Activation(\"relu\"))\n",
        "\n",
        "    model.add(UpSampling2D())\n",
        "    model.add(Conv2D(256,kernel_size=3,padding=\"same\"))\n",
        "    model.add(BatchNormalization(momentum=0.8))\n",
        "    model.add(Activation(\"relu\"))\n",
        "   \n",
        "    # Output resolution, additional upsampling\n",
        "    model.add(UpSampling2D())\n",
        "    model.add(Conv2D(128,kernel_size=3,padding=\"same\"))\n",
        "    model.add(BatchNormalization(momentum=0.8))\n",
        "    model.add(Activation(\"relu\"))\n",
        "\n",
        "    if GENERATE_RES>1:\n",
        "      model.add(UpSampling2D(size=(GENERATE_RES,GENERATE_RES)))\n",
        "      model.add(Conv2D(128,kernel_size=3,padding=\"same\"))\n",
        "      model.add(BatchNormalization(momentum=0.8))\n",
        "      model.add(Activation(\"relu\"))\n",
        "\n",
        "    # Final CNN layer\n",
        "    model.add(Conv2D(channels,kernel_size=3,padding=\"same\"))\n",
        "    model.add(Activation(\"tanh\"))\n",
        "\n",
        "    return model\n",
        "\n",
        "\n",
        "def build_discriminator(image_shape):\n",
        "    model = Sequential()\n",
        "\n",
        "    model.add(Conv2D(32, kernel_size=3, strides=2, input_shape=image_shape, \n",
        "                     padding=\"same\"))\n",
        "    model.add(LeakyReLU(alpha=0.2))\n",
        "\n",
        "    model.add(Dropout(0.25))\n",
        "    model.add(Conv2D(64, kernel_size=3, strides=2, padding=\"same\"))\n",
        "    model.add(ZeroPadding2D(padding=((0,1),(0,1))))\n",
        "    model.add(BatchNormalization(momentum=0.8))\n",
        "    model.add(LeakyReLU(alpha=0.2))\n",
        "\n",
        "    model.add(Dropout(0.25))\n",
        "    model.add(Conv2D(128, kernel_size=3, strides=2, padding=\"same\"))\n",
        "    model.add(BatchNormalization(momentum=0.8))\n",
        "    model.add(LeakyReLU(alpha=0.2))\n",
        "\n",
        "    model.add(Dropout(0.25))\n",
        "    model.add(Conv2D(256, kernel_size=3, strides=1, padding=\"same\"))\n",
        "    model.add(BatchNormalization(momentum=0.8))\n",
        "    model.add(LeakyReLU(alpha=0.2))\n",
        "\n",
        "    model.add(Dropout(0.25))\n",
        "    model.add(Conv2D(512, kernel_size=3, strides=1, padding=\"same\"))\n",
        "    model.add(BatchNormalization(momentum=0.8))\n",
        "    model.add(LeakyReLU(alpha=0.2))\n",
        "\n",
        "    model.add(Dropout(0.25))\n",
        "    model.add(Flatten())\n",
        "    model.add(Dense(1, activation='sigmoid'))\n",
        "\n",
        "    return model"
      ],
      "metadata": {
        "id": "lbDz_LJxl3FE"
      },
      "execution_count": null,
      "outputs": []
    },
    {
      "cell_type": "code",
      "source": [
        "def save_images(cnt,noise):\n",
        "  image_array = np.full(( \n",
        "      PREVIEW_MARGIN + (PREVIEW_ROWS * (GENERATE_SQUARE+PREVIEW_MARGIN)), \n",
        "      PREVIEW_MARGIN + (PREVIEW_COLS * (GENERATE_SQUARE+PREVIEW_MARGIN)), IMAGE_CHANNELS), \n",
        "      255, dtype=np.uint8)\n",
        "  \n",
        "  generated_images = generator.predict(noise)\n",
        "\n",
        "  generated_images = 0.5 * generated_images + 0.5\n",
        "\n",
        "  image_count = 0\n",
        "  for row in range(PREVIEW_ROWS):\n",
        "      for col in range(PREVIEW_COLS):\n",
        "        r = row * (GENERATE_SQUARE+16) + PREVIEW_MARGIN\n",
        "        c = col * (GENERATE_SQUARE+16) + PREVIEW_MARGIN\n",
        "        image_array[r:r+GENERATE_SQUARE,c:c+GENERATE_SQUARE] \\\n",
        "            = generated_images[image_count] * 255\n",
        "        image_count += 1\n",
        "\n",
        "          \n",
        "  output_path = os.path.join(DATA_PATH,'output')\n",
        "  if not os.path.exists(output_path):\n",
        "    os.makedirs(output_path)\n",
        "  \n",
        "  filename = os.path.join(output_path,f\"train-{cnt}.png\")\n",
        "  im = Image.fromarray(image_array)\n",
        "  im.save(filename)"
      ],
      "metadata": {
        "id": "EZ5KYyiDmDNM"
      },
      "execution_count": null,
      "outputs": []
    },
    {
      "cell_type": "code",
      "source": [
        "generator = build_generator(SEED_SIZE, IMAGE_CHANNELS)\n",
        "\n",
        "noise = tf.random.normal([1, SEED_SIZE])\n",
        "generated_image = generator(noise, training=False)\n",
        "\n",
        "plt.imshow(generated_image[0, :, :, 0]);"
      ],
      "metadata": {
        "colab": {
          "base_uri": "https://localhost:8080/",
          "height": 268
        },
        "id": "ASFfqO1DmJqE",
        "outputId": "96981fc2-2a77-423f-ca1b-d781a8fcca9c"
      },
      "execution_count": null,
      "outputs": [
        {
          "output_type": "display_data",
          "data": {
            "text/plain": [
              "<Figure size 432x288 with 1 Axes>"
            ],
            "image/png": "[encoded data removed]"
          },
          "metadata": {
            "needs_background": "light"
          }
        }
      ]
    },
    {
      "cell_type": "code",
      "source": [
        "image_shape = (GENERATE_SQUARE,GENERATE_SQUARE,IMAGE_CHANNELS)\n",
        "\n",
        "discriminator = build_discriminator(image_shape)\n",
        "decision = discriminator(generated_image)\n",
        "print (decision)"
      ],
      "metadata": {
        "colab": {
          "base_uri": "https://localhost:8080/"
        },
        "id": "1LPNeaW1mNJM",
        "outputId": "7b7aa5f6-8ebe-48fd-e97c-8734ca280e5f"
      },
      "execution_count": null,
      "outputs": [
        {
          "output_type": "stream",
          "name": "stdout",
          "text": [
            "tf.Tensor([[0.49958822]], shape=(1, 1), dtype=float32)\n"
          ]
        }
      ]
    },
    {
      "cell_type": "code",
      "source": [
        "# This method returns a helper function to compute cross entropy loss\n",
        "cross_entropy = tf.keras.losses.BinaryCrossentropy()\n",
        "\n",
        "def discriminator_loss(real_output, fake_output):\n",
        "    real_loss = cross_entropy(tf.ones_like(real_output), real_output)\n",
        "    fake_loss = cross_entropy(tf.zeros_like(fake_output), fake_output)\n",
        "    total_loss = real_loss + fake_loss\n",
        "    return total_loss\n",
        "\n",
        "def generator_loss(fake_output):\n",
        "    return cross_entropy(tf.ones_like(fake_output), fake_output)"
      ],
      "metadata": {
        "id": "2S6Q_B4_mUP8"
      },
      "execution_count": null,
      "outputs": []
    },
    {
      "cell_type": "code",
      "source": [
        "generator_optimizer = tf.keras.optimizers.Adam(1.5e-4,0.5)\n",
        "discriminator_optimizer = tf.keras.optimizers.Adam(1.5e-4,0.5)"
      ],
      "metadata": {
        "id": "SDCxTlRLmsj0"
      },
      "execution_count": null,
      "outputs": []
    },
    {
      "cell_type": "code",
      "source": [
        "# Notice the use of `tf.function`\n",
        "# This annotation causes the function to be \"compiled\".\n",
        "@tf.function\n",
        "def train_step(images):\n",
        "  seed = tf.random.normal([BATCH_SIZE, SEED_SIZE])\n",
        "\n",
        "  with tf.GradientTape() as gen_tape, tf.GradientTape() as disc_tape:\n",
        "    generated_images = generator(seed, training=True)\n",
        "\n",
        "    real_output = discriminator(images, training=True)\n",
        "    fake_output = discriminator(generated_images, training=True)\n",
        "\n",
        "    gen_loss = generator_loss(fake_output)\n",
        "    disc_loss = discriminator_loss(real_output, fake_output)\n",
        "    \n",
        "\n",
        "    gradients_of_generator = gen_tape.gradient(\\\n",
        "        gen_loss, generator.trainable_variables)\n",
        "    gradients_of_discriminator = disc_tape.gradient(\\\n",
        "        disc_loss, discriminator.trainable_variables)\n",
        "\n",
        "    generator_optimizer.apply_gradients(zip(\n",
        "        gradients_of_generator, generator.trainable_variables))\n",
        "    discriminator_optimizer.apply_gradients(zip(\n",
        "        gradients_of_discriminator, \n",
        "        discriminator.trainable_variables))\n",
        "  return gen_loss,disc_loss"
      ],
      "metadata": {
        "id": "G69AjySZmvYT"
      },
      "execution_count": null,
      "outputs": []
    },
    {
      "cell_type": "code",
      "source": [
        "def train(dataset, epochs):\n",
        "  fixed_seed = np.random.normal(0, 1, (PREVIEW_ROWS * PREVIEW_COLS, \n",
        "                                       SEED_SIZE))\n",
        "  start = time.time()\n",
        "\n",
        "  for epoch in range(epochs):\n",
        "    epoch_start = time.time()\n",
        "\n",
        "    gen_loss_list = []\n",
        "    disc_loss_list = []\n",
        "\n",
        "    for image_batch in dataset:\n",
        "      t = train_step(image_batch)\n",
        "      gen_loss_list.append(t[0])\n",
        "      disc_loss_list.append(t[1])\n",
        "\n",
        "    g_loss = sum(gen_loss_list) / len(gen_loss_list)\n",
        "    d_loss = sum(disc_loss_list) / len(disc_loss_list)\n",
        "\n",
        "    epoch_elapsed = time.time()-epoch_start\n",
        "    print (f'Epoch {epoch+1}, gen loss={g_loss},disc loss={d_loss},'\\\n",
        "           f' {hms_string(epoch_elapsed)}')\n",
        "    save_images(epoch,fixed_seed)\n",
        "\n",
        "  elapsed = time.time()-start\n",
        "  print (f'Training time: {hms_string(elapsed)}')\n",
        "\n",
        "  "
      ],
      "metadata": {
        "id": "uIkrnuiVm8F0"
      },
      "execution_count": null,
      "outputs": []
    },
    {
      "cell_type": "code",
      "source": [
        "train(train_dataset, EPOCHS)"
      ],
      "metadata": {
        "colab": {
          "base_uri": "https://localhost:8080/"
        },
        "id": "NVoOwn6SnA5q",
        "outputId": "49b91dba-876b-46c9-c0ac-1a55ce640e05"
      },
      "execution_count": null,
      "outputs": [
        {
          "output_type": "stream",
          "name": "stdout",
          "text": [
            "Epoch 1, gen loss=1.715444564819336,disc loss=1.194861888885498, 0:00:09.73\n",
            "Epoch 2, gen loss=2.6197004318237305,disc loss=0.22847934067249298, 0:00:00.96\n",
            "Epoch 3, gen loss=3.266573429107666,disc loss=0.12885834276676178, 0:00:00.96\n",
            "Epoch 4, gen loss=4.1971940994262695,disc loss=0.056345999240875244, 0:00:00.95\n",
            "Epoch 5, gen loss=4.314326286315918,disc loss=0.04353605955839157, 0:00:00.96\n",
            "Epoch 6, gen loss=4.631502628326416,disc loss=0.03507014364004135, 0:00:00.96\n",
            "Epoch 7, gen loss=4.817920207977295,disc loss=0.02861175313591957, 0:00:00.95\n",
            "Epoch 8, gen loss=5.482193470001221,disc loss=0.015099498443305492, 0:00:00.95\n",
            "Epoch 9, gen loss=5.680727958679199,disc loss=0.011547299101948738, 0:00:00.96\n",
            "Epoch 10, gen loss=5.664325714111328,disc loss=0.014025099575519562, 0:00:00.96\n",
            "Epoch 11, gen loss=6.161790370941162,disc loss=0.009177012369036674, 0:00:00.98\n",
            "Epoch 12, gen loss=5.745888710021973,disc loss=0.010099092498421669, 0:00:00.96\n",
            "Epoch 13, gen loss=5.783889293670654,disc loss=0.012269141152501106, 0:00:00.96\n",
            "Epoch 14, gen loss=5.859727382659912,disc loss=0.01079503633081913, 0:00:00.96\n",
            "Epoch 15, gen loss=6.131708145141602,disc loss=0.010876370593905449, 0:00:00.96\n",
            "Epoch 16, gen loss=6.258389949798584,disc loss=0.007128366269171238, 0:00:00.96\n",
            "Epoch 17, gen loss=6.353430271148682,disc loss=0.008811200968921185, 0:00:00.96\n",
            "Epoch 18, gen loss=6.585748195648193,disc loss=0.008314954116940498, 0:00:00.96\n",
            "Epoch 19, gen loss=6.44937801361084,disc loss=0.007125875912606716, 0:00:00.96\n",
            "Epoch 20, gen loss=6.504464626312256,disc loss=0.007926641963422298, 0:00:00.96\n",
            "Epoch 21, gen loss=6.683770656585693,disc loss=0.006613957695662975, 0:00:00.97\n",
            "Epoch 22, gen loss=7.000600337982178,disc loss=0.004845727700740099, 0:00:00.96\n",
            "Epoch 23, gen loss=6.600404262542725,disc loss=0.00724520068615675, 0:00:00.96\n",
            "Epoch 24, gen loss=6.732935428619385,disc loss=0.005946845281869173, 0:00:00.96\n",
            "Epoch 25, gen loss=6.573691368103027,disc loss=0.006035204976797104, 0:00:00.96\n",
            "Epoch 26, gen loss=6.977287292480469,disc loss=0.0053135547786951065, 0:00:00.96\n",
            "Epoch 27, gen loss=6.896990776062012,disc loss=0.0059072887524962425, 0:00:00.96\n",
            "Epoch 28, gen loss=7.08858585357666,disc loss=0.006501755211502314, 0:00:00.97\n",
            "Epoch 29, gen loss=6.639710903167725,disc loss=0.006385802291333675, 0:00:00.96\n",
            "Epoch 30, gen loss=6.396271228790283,disc loss=0.007595613598823547, 0:00:00.96\n",
            "Epoch 31, gen loss=6.778358459472656,disc loss=0.006122550927102566, 0:00:00.96\n",
            "Epoch 32, gen loss=6.593382358551025,disc loss=0.005862867459654808, 0:00:00.96\n",
            "Epoch 33, gen loss=6.6428375244140625,disc loss=0.006788589060306549, 0:00:00.96\n",
            "Epoch 34, gen loss=6.279210567474365,disc loss=0.012432211078703403, 0:00:00.97\n",
            "Epoch 35, gen loss=6.256487846374512,disc loss=0.009690131060779095, 0:00:00.97\n",
            "Epoch 36, gen loss=6.456520080566406,disc loss=0.00828638207167387, 0:00:00.96\n",
            "Epoch 37, gen loss=5.997462272644043,disc loss=0.011772794649004936, 0:00:00.97\n",
            "Epoch 38, gen loss=6.071131706237793,disc loss=0.012578527443110943, 0:00:00.96\n",
            "Epoch 39, gen loss=5.987974643707275,disc loss=0.016248848289251328, 0:00:00.96\n",
            "Epoch 40, gen loss=5.995672225952148,disc loss=0.01647583767771721, 0:00:00.97\n",
            "Epoch 41, gen loss=5.7769975662231445,disc loss=0.02483745850622654, 0:00:00.96\n",
            "Epoch 42, gen loss=6.757046699523926,disc loss=0.008006036281585693, 0:00:00.97\n",
            "Epoch 43, gen loss=6.280611515045166,disc loss=0.014597734436392784, 0:00:00.96\n",
            "Epoch 44, gen loss=6.022524356842041,disc loss=0.01717187836766243, 0:00:00.96\n",
            "Epoch 45, gen loss=6.6984052658081055,disc loss=0.012070038355886936, 0:00:00.96\n",
            "Epoch 46, gen loss=7.920443534851074,disc loss=0.07324952632188797, 0:00:00.97\n",
            "Epoch 47, gen loss=8.722908020019531,disc loss=0.022755691781640053, 0:00:00.97\n",
            "Epoch 48, gen loss=7.3051958084106445,disc loss=0.03181467205286026, 0:00:00.97\n",
            "Epoch 49, gen loss=7.8023576736450195,disc loss=0.03573857992887497, 0:00:00.97\n",
            "Epoch 50, gen loss=14.266636848449707,disc loss=4.9501848220825195, 0:00:00.96\n",
            "Training time: 0:01:17.30\n"
          ]
        }
      ]
    },
    {
      "cell_type": "code",
      "source": [
        ""
      ],
      "metadata": {
        "id": "dyJIY5yao8un"
      },
      "execution_count": null,
      "outputs": []
    }
  ]
}